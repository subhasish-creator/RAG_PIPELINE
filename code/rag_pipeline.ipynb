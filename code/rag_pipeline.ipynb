{
 "cells": [
  {
   "cell_type": "code",
   "execution_count": 2,
   "metadata": {},
   "outputs": [],
   "source": [
    "import os\n",
    "import openai\n",
    "import faiss\n",
    "from dotenv import load_dotenv\n",
    "from llama_index.core import VectorStoreIndex, SimpleDirectoryReader,StorageContext, load_index_from_storage\n",
    "from llama_index.core.response.pprint_utils  import pprint_response\n",
    "from llama_index.vector_stores.faiss import FaissVectorStore\n",
    "from llama_index.llms.openai import OpenAI\n",
    "load_dotenv()\n",
    "os.environ['OPENAI_API_KEY']=os.getenv('OPENAI_API_KEY')\n"
   ]
  },
  {
   "cell_type": "code",
   "execution_count": 3,
   "metadata": {},
   "outputs": [],
   "source": [
    "#!pip install llama-index-vector-stores-faiss faiss-cpu\n",
    "#!pip install llama-index-llms-openai openai"
   ]
  },
  {
   "cell_type": "code",
   "execution_count": 4,
   "metadata": {},
   "outputs": [],
   "source": [
    "path='D:\\chatbot\\data'\n",
    "FAISS_STORAGE='D:\\chatbot\\faiss_storage'\n",
    "# file loading\n",
    "def loadData(path):\n",
    "    docs=SimpleDirectoryReader('D:\\chatbot\\data').load_data()\n",
    "    return docs\n",
    "\n",
    "docs1=loadData(path)"
   ]
  },
  {
   "cell_type": "code",
   "execution_count": 6,
   "metadata": {},
   "outputs": [
    {
     "name": "stdout",
     "output_type": "stream",
     "text": [
      "VectorStoreIndex Created\n"
     ]
    }
   ],
   "source": [
    "emb_dim=1536\n",
    "FAISS_STORAGE='D:\\chatbot\\faiss_storage'\n",
    "faiss_index=faiss.IndexFlatL2(emb_dim)\n",
    "vector_store=FaissVectorStore(faiss_index=faiss_index)\n",
    "\n",
    "storage_context=StorageContext.from_defaults(vector_store=vector_store)\n",
    "index3=VectorStoreIndex.from_documents(docs1,storage_context=storage_context)\n",
    "print('VectorStoreIndex Created')\n",
    "\n",
    "faiss.write_index(faiss_index, 'faiss_index.bin')\n",
    "#index3.storage_context.persist(FAISS_STORAGE)"
   ]
  },
  {
   "cell_type": "code",
   "execution_count": 10,
   "metadata": {},
   "outputs": [
    {
     "name": "stdout",
     "output_type": "stream",
     "text": [
      "Global warming refers to the long-term increase in the Earth's average temperature, primarily caused by human activities such as burning fossil fuels. This leads to higher concentrations of greenhouse gases in the atmosphere, which intensify the natural greenhouse effect and result in a warming of the planet.\n"
     ]
    }
   ],
   "source": [
    "# LLM\n",
    "llm=OpenAI(model='gpt-3.5-turbo', temperature=0.2)\n",
    "retriver=index3.as_retriever(similarity_top_k=3)\n",
    "query_engine=index3.as_query_engine(retriver=retriver, llm=llm)\n",
    "response=query_engine.query('What is global warming')\n",
    "print(response)\n"
   ]
  }
 ],
 "metadata": {
  "kernelspec": {
   "display_name": "chatbot",
   "language": "python",
   "name": "python3"
  },
  "language_info": {
   "codemirror_mode": {
    "name": "ipython",
    "version": 3
   },
   "file_extension": ".py",
   "mimetype": "text/x-python",
   "name": "python",
   "nbconvert_exporter": "python",
   "pygments_lexer": "ipython3",
   "version": "3.10.5"
  }
 },
 "nbformat": 4,
 "nbformat_minor": 2
}
