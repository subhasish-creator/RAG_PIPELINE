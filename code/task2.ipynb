{
 "cells": [
  {
   "cell_type": "code",
   "execution_count": 2,
   "metadata": {},
   "outputs": [],
   "source": [
    "import os\n",
    "from dotenv import load_dotenv\n",
    "load_dotenv()\n",
    "os.environ['OPENAI_API_KEY']=os.getenv('OPENAI_API_KEY')"
   ]
  },
  {
   "cell_type": "code",
   "execution_count": 1,
   "metadata": {},
   "outputs": [
    {
     "name": "stdout",
     "output_type": "stream",
     "text": [
      "[Document(id_='023fba31-6d11-45ab-bf44-b2163b52017d', embedding=None, metadata={'file_path': 'D:\\\\chatbot\\\\data\\\\data.txt', 'file_name': 'data.txt', 'file_type': 'text/plain', 'file_size': 677, 'creation_date': '2025-04-04', 'last_modified_date': '2025-04-04'}, excluded_embed_metadata_keys=['file_name', 'file_type', 'file_size', 'creation_date', 'last_modified_date', 'last_accessed_date'], excluded_llm_metadata_keys=['file_name', 'file_type', 'file_size', 'creation_date', 'last_modified_date', 'last_accessed_date'], relationships={}, metadata_template='{key}: {value}', metadata_separator='\\n', text_resource=MediaResource(embeddings=None, data=None, text='Global warming, a term often used interchangeably with climate change, refers to the long-term rise in the Earth\\'s average temperature, primarily caused by human activities like burning fossil fuels, leading to increased greenhouse gas concentrations in the atmosphere. Carbon dioxide (CO2) is a major contributor, but other gases like methane, nitrous oxide, and water vapor also play a role. The Earth naturally has a \"greenhouse effect\" where certain gases in the atmosphere trap heat, keeping the planet warm enough to support life. However, human activities have increased the concentration of these gases, intensifying the greenhouse effect and leading to global warming.', path=None, url=None, mimetype=None), image_resource=None, audio_resource=None, video_resource=None, text_template='{metadata_str}\\n\\n{content}')]\n"
     ]
    }
   ],
   "source": [
    "import faiss\n",
    "from llama_index.core import VectorStoreIndex, SimpleDirectoryReader\n",
    "path='D:\\chatbot\\data'\n",
    "\n",
    "# file loading\n",
    "def loadData(path):\n",
    "    docs=SimpleDirectoryReader('D:\\chatbot\\data').load_data()\n",
    "    return docs\n",
    "\n",
    "docs1=loadData(path)\n",
    "print(docs1)"
   ]
  },
  {
   "cell_type": "code",
   "execution_count": null,
   "metadata": {},
   "outputs": [
    {
     "name": "stderr",
     "output_type": "stream",
     "text": [
      "d:\\chatbot\\chatbot\\lib\\site-packages\\tqdm\\auto.py:21: TqdmWarning: IProgress not found. Please update jupyter and ipywidgets. See https://ipywidgets.readthedocs.io/en/stable/user_install.html\n",
      "  from .autonotebook import tqdm as notebook_tqdm\n",
      "Parsing nodes: 100%|██████████| 1/1 [00:00<00:00, 494.49it/s]\n",
      "Generating embeddings: 100%|██████████| 1/1 [00:01<00:00,  1.04s/it]\n"
     ]
    }
   ],
   "source": [
    "index=VectorStoreIndex.from_documents(docs1, show_progress=True)\n",
    "query_engine=index.as_query_engine()"
   ]
  },
  {
   "cell_type": "code",
   "execution_count": 16,
   "metadata": {},
   "outputs": [
    {
     "name": "stdout",
     "output_type": "stream",
     "text": [
      "Final Response: Global warming refers to the long-term rise in the\n",
      "Earth's average temperature, primarily caused by human activities like\n",
      "burning fossil fuels, which leads to increased greenhouse gas\n",
      "concentrations in the atmosphere.\n",
      "______________________________________________________________________\n",
      "Source Node 1/1\n",
      "Node ID: 4896005f-5711-4fd6-980f-0f399c769de9\n",
      "Similarity: 0.8566896299881852\n",
      "Text: Global warming, a term often used interchangeably with climate\n",
      "change, refers to the long-term rise in the Earth's average\n",
      "temperature, primarily caused by human activities like burning fossil\n",
      "fuels, leading to increased greenhouse gas concentrations in the\n",
      "atmosphere. Carbon dioxide (CO2) is a major contributor, but other\n",
      "gases like methane, ni...\n"
     ]
    }
   ],
   "source": [
    "from llama_index.core.response.pprint_utils  import pprint_response\n",
    "response=query_engine.query('Whais global warming')\n",
    "pprint_response(response, show_source=2)"
   ]
  },
  {
   "cell_type": "code",
   "execution_count": null,
   "metadata": {},
   "outputs": [],
   "source": [
    "from llama_index.core.response.pprint_utils  import pprint_response\n",
    "query_engine=index.as_query_engine()\n",
    "response=query_engine(\"What is gloal Warming\")\n",
    "pprint_response(response, show_source=True)# top ranked answer it will return"
   ]
  },
  {
   "cell_type": "code",
   "execution_count": 13,
   "metadata": {},
   "outputs": [],
   "source": [
    "from llama_index.core.retrievers import VectorIndexRetriever\n",
    "from llama_index.core.query_engine import RetrieverQueryEngine\n",
    "retriever=VectorIndexRetriever(index=index)\n",
    "query_engine=RetrieverQueryEngine(retriever=retriever)"
   ]
  },
  {
   "cell_type": "code",
   "execution_count": 15,
   "metadata": {},
   "outputs": [
    {
     "name": "stdout",
     "output_type": "stream",
     "text": [
      "<llama_index.core.query_engine.retriever_query_engine.RetrieverQueryEngine object at 0x00000174C63D33D0>\n"
     ]
    }
   ],
   "source": [
    "print(query_engine)"
   ]
  },
  {
   "cell_type": "code",
   "execution_count": 29,
   "metadata": {},
   "outputs": [],
   "source": [
    "# Storing vectorDB locally\n",
    "import os.path\n",
    "from llama_index.core import VectorStoreIndex, SimpleDirectoryReader, StorageContext, load_index_from_storage\n",
    "PERSIST_DIR=\"D:\\chatbot\\storage\"\n",
    "\n",
    "path='D:\\chatbot\\data'\n",
    "if not os.path.exists(PERSIST_DIR):\n",
    "    documents=SimpleDirectoryReader(path).load_data()\n",
    "    index=VectorStoreIndex.from_documents(documents)\n",
    "    index.storage_context.persist(persist_dir=PERSIST_DIR)\n",
    "else:\n",
    "    storage=StorageContext.from_defaults(persist_dir=PERSIST_DIR)\n",
    "    index=load_index_from_storage(storage)"
   ]
  }
 ],
 "metadata": {
  "kernelspec": {
   "display_name": "chatbot",
   "language": "python",
   "name": "python3"
  },
  "language_info": {
   "codemirror_mode": {
    "name": "ipython",
    "version": 3
   },
   "file_extension": ".py",
   "mimetype": "text/x-python",
   "name": "python",
   "nbconvert_exporter": "python",
   "pygments_lexer": "ipython3",
   "version": "3.10.5"
  }
 },
 "nbformat": 4,
 "nbformat_minor": 2
}
